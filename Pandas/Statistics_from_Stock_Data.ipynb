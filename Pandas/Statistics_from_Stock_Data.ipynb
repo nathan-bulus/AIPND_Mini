{
  "nbformat": 4,
  "nbformat_minor": 0,
  "metadata": {
    "kernelspec": {
      "display_name": "Python 3",
      "language": "python",
      "name": "python3"
    },
    "language_info": {
      "codemirror_mode": {
        "name": "ipython",
        "version": 3
      },
      "file_extension": ".py",
      "mimetype": "text/x-python",
      "name": "python",
      "nbconvert_exporter": "python",
      "pygments_lexer": "ipython3",
      "version": "3.6.3"
    },
    "colab": {
      "name": "Statistics from Stock Data.ipynb",
      "provenance": [],
      "toc_visible": true
    }
  },
  "cells": [
    {
      "cell_type": "markdown",
      "metadata": {
        "id": "UwiAIP3TOIlv"
      },
      "source": [
        "# Statistics from Stock Data\n",
        "\n",
        "In this lab we will load stock data into a Pandas Dataframe and calculate some statistics on it. We will be working with stock data from Google, Apple, and Amazon. All the stock data was downloaded from yahoo finance in CSV format. In your workspace you should have a file named GOOG.csv containing the Google stock data, a file named AAPL.csv containing the Apple stock data, and a file  named AMZN.csv containing the Amazon stock data. (You can see the workspace folder by clicking on the Jupyter logo in the upper left corner of the workspace.) All the files contain 7 columns of data:\n",
        "\n",
        "**Date Open High Low Close Adj_Close Volume**\n",
        "\n",
        "We will start by reading in any of the above CSV files into a DataFrame and see what the data looks like."
      ]
    },
    {
      "cell_type": "code",
      "metadata": {
        "colab": {
          "base_uri": "https://localhost:8080/",
          "height": 198
        },
        "id": "nY7BZiWrOIl7",
        "outputId": "920a6dce-26a6-40c0-d5c2-735c809f3157"
      },
      "source": [
        "# We import pandas into Python\n",
        "import pandas as pd\n",
        "\n",
        "# We read in a stock data data file into a data frame and see what it looks like\n",
        "df = pd.read_csv('./GOOG.csv')\n",
        "\n",
        "# We display the first 5 rows of the DataFrame\n",
        "df.head()"
      ],
      "execution_count": 1,
      "outputs": [
        {
          "output_type": "execute_result",
          "data": {
            "text/html": [
              "<div>\n",
              "<style scoped>\n",
              "    .dataframe tbody tr th:only-of-type {\n",
              "        vertical-align: middle;\n",
              "    }\n",
              "\n",
              "    .dataframe tbody tr th {\n",
              "        vertical-align: top;\n",
              "    }\n",
              "\n",
              "    .dataframe thead th {\n",
              "        text-align: right;\n",
              "    }\n",
              "</style>\n",
              "<table border=\"1\" class=\"dataframe\">\n",
              "  <thead>\n",
              "    <tr style=\"text-align: right;\">\n",
              "      <th></th>\n",
              "      <th>Date</th>\n",
              "      <th>Open</th>\n",
              "      <th>High</th>\n",
              "      <th>Low</th>\n",
              "      <th>Close</th>\n",
              "      <th>Adj Close</th>\n",
              "      <th>Volume</th>\n",
              "    </tr>\n",
              "  </thead>\n",
              "  <tbody>\n",
              "    <tr>\n",
              "      <th>0</th>\n",
              "      <td>2004-08-19</td>\n",
              "      <td>49.676899</td>\n",
              "      <td>51.693783</td>\n",
              "      <td>47.669952</td>\n",
              "      <td>49.845802</td>\n",
              "      <td>49.845802</td>\n",
              "      <td>44994500</td>\n",
              "    </tr>\n",
              "    <tr>\n",
              "      <th>1</th>\n",
              "      <td>2004-08-20</td>\n",
              "      <td>50.178635</td>\n",
              "      <td>54.187561</td>\n",
              "      <td>49.925285</td>\n",
              "      <td>53.805050</td>\n",
              "      <td>53.805050</td>\n",
              "      <td>23005800</td>\n",
              "    </tr>\n",
              "    <tr>\n",
              "      <th>2</th>\n",
              "      <td>2004-08-23</td>\n",
              "      <td>55.017166</td>\n",
              "      <td>56.373344</td>\n",
              "      <td>54.172661</td>\n",
              "      <td>54.346527</td>\n",
              "      <td>54.346527</td>\n",
              "      <td>18393200</td>\n",
              "    </tr>\n",
              "    <tr>\n",
              "      <th>3</th>\n",
              "      <td>2004-08-24</td>\n",
              "      <td>55.260582</td>\n",
              "      <td>55.439419</td>\n",
              "      <td>51.450363</td>\n",
              "      <td>52.096165</td>\n",
              "      <td>52.096165</td>\n",
              "      <td>15361800</td>\n",
              "    </tr>\n",
              "    <tr>\n",
              "      <th>4</th>\n",
              "      <td>2004-08-25</td>\n",
              "      <td>52.140873</td>\n",
              "      <td>53.651051</td>\n",
              "      <td>51.604362</td>\n",
              "      <td>52.657513</td>\n",
              "      <td>52.657513</td>\n",
              "      <td>9257400</td>\n",
              "    </tr>\n",
              "  </tbody>\n",
              "</table>\n",
              "</div>"
            ],
            "text/plain": [
              "         Date       Open       High        Low      Close  Adj Close    Volume\n",
              "0  2004-08-19  49.676899  51.693783  47.669952  49.845802  49.845802  44994500\n",
              "1  2004-08-20  50.178635  54.187561  49.925285  53.805050  53.805050  23005800\n",
              "2  2004-08-23  55.017166  56.373344  54.172661  54.346527  54.346527  18393200\n",
              "3  2004-08-24  55.260582  55.439419  51.450363  52.096165  52.096165  15361800\n",
              "4  2004-08-25  52.140873  53.651051  51.604362  52.657513  52.657513   9257400"
            ]
          },
          "metadata": {
            "tags": []
          },
          "execution_count": 1
        }
      ]
    },
    {
      "cell_type": "markdown",
      "metadata": {
        "id": "m29NbR4zOIl_"
      },
      "source": [
        "We clearly see that the Dataframe has automatically labeled the row indices using integers and has labeled the columns of the DataFrame using the names of the columns in the CSV files.\n",
        "\n",
        "# To Do\n",
        "\n",
        "You will now load the stock data from Google, Apple, and Amazon into separte DataFrames. However, for each stock data you will only be interested in loading the `Date` and `Adj Close` columns into the Dataframe. In addtion, you want to use the `Date` column as your row index. Finally, you want the DataFrame to recognize the dates as actual dates (year/month/day) and not as strings. For each stock, you can accomplish all theses things in just one line of code by using the appropiate keywords in the `pd.read_csv()` function. Here are a few hints:\n",
        "\n",
        "* Use the `index_col` keyword to indicate which column you want to use as an index. For example `index_col = ['Open']`\n",
        "\n",
        "* Set the `parse_dates` keyword equal to `True` to convert the Dates into real dates of the form year/month/day\n",
        "\n",
        "* Use the `usecols` keyword to select which columns you want to load into the DataFrame. For example `usecols = ['Open', 'High']`\n",
        "\n",
        "Fill in the code below:"
      ]
    },
    {
      "cell_type": "code",
      "metadata": {
        "collapsed": true,
        "id": "EY4ZTh_POImA"
      },
      "source": [
        "# We load the Google stock data into a DataFrame\n",
        "google_stock = pd.read_csv('./GOOG.csv', index_col=['Date'], parse_dates=True, usecols=['Date','Adj Close'])\n",
        "\n",
        "# We load the Apple stock data into a DataFrame\n",
        "apple_stock = pd.read_csv('./AAPL.csv', index_col=['Date'], parse_dates=True, usecols=['Date','Adj Close'])\n",
        "\n",
        "# We load the Amazon stock data into a DataFrame\n",
        "amazon_stock = pd.read_csv('./AMZN.csv', index_col=['Date'], parse_dates=True, usecols=['Date','Adj Close'])"
      ],
      "execution_count": 2,
      "outputs": []
    },
    {
      "cell_type": "markdown",
      "metadata": {
        "id": "pDk1DgqzOImB"
      },
      "source": [
        "You can check that you have loaded the data correctly by displaying the head of the DataFrames."
      ]
    },
    {
      "cell_type": "code",
      "metadata": {
        "collapsed": true,
        "colab": {
          "base_uri": "https://localhost:8080/",
          "height": 228
        },
        "id": "rU01e3pJOImC",
        "outputId": "21843fee-9723-49b7-e953-9acc7f7a7cba"
      },
      "source": [
        "# We display the google_stock DataFrame\n",
        "google_stock.head()"
      ],
      "execution_count": 3,
      "outputs": [
        {
          "output_type": "execute_result",
          "data": {
            "text/html": [
              "<div>\n",
              "<style scoped>\n",
              "    .dataframe tbody tr th:only-of-type {\n",
              "        vertical-align: middle;\n",
              "    }\n",
              "\n",
              "    .dataframe tbody tr th {\n",
              "        vertical-align: top;\n",
              "    }\n",
              "\n",
              "    .dataframe thead th {\n",
              "        text-align: right;\n",
              "    }\n",
              "</style>\n",
              "<table border=\"1\" class=\"dataframe\">\n",
              "  <thead>\n",
              "    <tr style=\"text-align: right;\">\n",
              "      <th></th>\n",
              "      <th>Adj Close</th>\n",
              "    </tr>\n",
              "    <tr>\n",
              "      <th>Date</th>\n",
              "      <th></th>\n",
              "    </tr>\n",
              "  </thead>\n",
              "  <tbody>\n",
              "    <tr>\n",
              "      <th>2004-08-19</th>\n",
              "      <td>49.845802</td>\n",
              "    </tr>\n",
              "    <tr>\n",
              "      <th>2004-08-20</th>\n",
              "      <td>53.805050</td>\n",
              "    </tr>\n",
              "    <tr>\n",
              "      <th>2004-08-23</th>\n",
              "      <td>54.346527</td>\n",
              "    </tr>\n",
              "    <tr>\n",
              "      <th>2004-08-24</th>\n",
              "      <td>52.096165</td>\n",
              "    </tr>\n",
              "    <tr>\n",
              "      <th>2004-08-25</th>\n",
              "      <td>52.657513</td>\n",
              "    </tr>\n",
              "  </tbody>\n",
              "</table>\n",
              "</div>"
            ],
            "text/plain": [
              "            Adj Close\n",
              "Date                 \n",
              "2004-08-19  49.845802\n",
              "2004-08-20  53.805050\n",
              "2004-08-23  54.346527\n",
              "2004-08-24  52.096165\n",
              "2004-08-25  52.657513"
            ]
          },
          "metadata": {
            "tags": []
          },
          "execution_count": 3
        }
      ]
    },
    {
      "cell_type": "markdown",
      "metadata": {
        "id": "mJEW-R3LOImC"
      },
      "source": [
        "You will now join the three DataFrames above to create a single new DataFrame that contains all the `Adj Close` for all the stocks. Let's start by creating an empty DataFrame that has as row indices calendar days between `2000-01-01`  and `2016-12-31`. We will use the `pd.date_range()` function to create the calendar dates first and then we will create a DataFrame that uses those dates as row indices:"
      ]
    },
    {
      "cell_type": "code",
      "metadata": {
        "collapsed": true,
        "id": "thOfDVXJOImD"
      },
      "source": [
        "# We create calendar dates between '2000-01-01' and  '2016-12-31'\n",
        "dates = pd.date_range('2000-01-01', '2016-12-31')\n",
        "\n",
        "# We create and empty DataFrame that uses the above dates as indices\n",
        "all_stocks = pd.DataFrame(index = dates)"
      ],
      "execution_count": 4,
      "outputs": []
    },
    {
      "cell_type": "markdown",
      "metadata": {
        "id": "P_CqyueROImE"
      },
      "source": [
        "# To Do\n",
        "\n",
        "You will now join the the individual DataFrames, `google_stock`, `apple_stock`, and `amazon_stock`, to the `all_stocks` DataFrame. However, before you do this, it is necessary that you change the name of the columns in each of the three dataframes. This is because the column labels in the `all_stocks` dataframe must be unique. Since all the columns in the individual dataframes have the same name, `Adj Close`, we must change them to the stock name before joining them. In the space below change the column label `Adj Close` of each individual dataframe to the name of the corresponding stock. You can do this by using the `pd.DataFrame.rename()` function. "
      ]
    },
    {
      "cell_type": "code",
      "metadata": {
        "collapsed": true,
        "id": "blZYSKhFOImF"
      },
      "source": [
        "# Change the Adj Close column label to Google\n",
        "google_stock = google_stock.rename(columns={'Adj Close':'Google'})\n",
        "\n",
        "# Change the Adj Close column label to Apple\n",
        "apple_stock = apple_stock.rename(columns={'Adj Close':'Apple'})\n",
        "\n",
        "# Change the Adj Close column label to Amazon\n",
        "amazon_stock = amazon_stock.rename(columns={'Adj Close':'Amazon'})"
      ],
      "execution_count": 5,
      "outputs": []
    },
    {
      "cell_type": "markdown",
      "metadata": {
        "id": "saV0qCZIOImF"
      },
      "source": [
        "You can check that the column labels have been changed correctly by displaying the datadrames"
      ]
    },
    {
      "cell_type": "code",
      "metadata": {
        "collapsed": true,
        "colab": {
          "base_uri": "https://localhost:8080/",
          "height": 228
        },
        "id": "GICpDv8MOImG",
        "outputId": "1438dec8-e7d6-4836-a2f5-789ecc52f374"
      },
      "source": [
        "# We display the google_stock DataFrame\n",
        "google_stock.head()"
      ],
      "execution_count": 6,
      "outputs": [
        {
          "output_type": "execute_result",
          "data": {
            "text/html": [
              "<div>\n",
              "<style scoped>\n",
              "    .dataframe tbody tr th:only-of-type {\n",
              "        vertical-align: middle;\n",
              "    }\n",
              "\n",
              "    .dataframe tbody tr th {\n",
              "        vertical-align: top;\n",
              "    }\n",
              "\n",
              "    .dataframe thead th {\n",
              "        text-align: right;\n",
              "    }\n",
              "</style>\n",
              "<table border=\"1\" class=\"dataframe\">\n",
              "  <thead>\n",
              "    <tr style=\"text-align: right;\">\n",
              "      <th></th>\n",
              "      <th>Google</th>\n",
              "    </tr>\n",
              "    <tr>\n",
              "      <th>Date</th>\n",
              "      <th></th>\n",
              "    </tr>\n",
              "  </thead>\n",
              "  <tbody>\n",
              "    <tr>\n",
              "      <th>2004-08-19</th>\n",
              "      <td>49.845802</td>\n",
              "    </tr>\n",
              "    <tr>\n",
              "      <th>2004-08-20</th>\n",
              "      <td>53.805050</td>\n",
              "    </tr>\n",
              "    <tr>\n",
              "      <th>2004-08-23</th>\n",
              "      <td>54.346527</td>\n",
              "    </tr>\n",
              "    <tr>\n",
              "      <th>2004-08-24</th>\n",
              "      <td>52.096165</td>\n",
              "    </tr>\n",
              "    <tr>\n",
              "      <th>2004-08-25</th>\n",
              "      <td>52.657513</td>\n",
              "    </tr>\n",
              "  </tbody>\n",
              "</table>\n",
              "</div>"
            ],
            "text/plain": [
              "               Google\n",
              "Date                 \n",
              "2004-08-19  49.845802\n",
              "2004-08-20  53.805050\n",
              "2004-08-23  54.346527\n",
              "2004-08-24  52.096165\n",
              "2004-08-25  52.657513"
            ]
          },
          "metadata": {
            "tags": []
          },
          "execution_count": 6
        }
      ]
    },
    {
      "cell_type": "markdown",
      "metadata": {
        "id": "2vtIdW32OImH"
      },
      "source": [
        "Now that we have unique column labels, we can join the individual DataFrames to the `all_stocks` DataFrame. For this we will use the `dataframe.join()` function. The function `dataframe1.join(dataframe2)` joins `dataframe1` with `dataframe2`. We will join each dataframe one by one to the `all_stocks` dataframe. Fill in the code below to join the dataframes, the first join has been made for you:"
      ]
    },
    {
      "cell_type": "code",
      "metadata": {
        "collapsed": true,
        "id": "s_h4XjkOOImI"
      },
      "source": [
        "# We join the Google stock to all_stocks\n",
        "all_stocks = all_stocks.join(google_stock)\n",
        "\n",
        "# We join the Apple stock to all_stocks\n",
        "all_stocks = all_stocks.join(apple_stock)\n",
        "\n",
        "# We join the Amazon stock to all_stocks\n",
        "all_stocks = all_stocks.join(amazon_stock)"
      ],
      "execution_count": 7,
      "outputs": []
    },
    {
      "cell_type": "markdown",
      "metadata": {
        "id": "WUPCJUJxOImJ"
      },
      "source": [
        "You can check that the dataframes have been joined correctly by displaying the `all_stocks`  dataframe"
      ]
    },
    {
      "cell_type": "code",
      "metadata": {
        "collapsed": true,
        "colab": {
          "base_uri": "https://localhost:8080/",
          "height": 198
        },
        "id": "F6x6EY8fOImJ",
        "outputId": "b4884b0b-ad1d-47a6-cbac-b983c02ef52b"
      },
      "source": [
        "# We display the all_stocks DataFrame\n",
        "all_stocks.head()"
      ],
      "execution_count": 8,
      "outputs": [
        {
          "output_type": "execute_result",
          "data": {
            "text/html": [
              "<div>\n",
              "<style scoped>\n",
              "    .dataframe tbody tr th:only-of-type {\n",
              "        vertical-align: middle;\n",
              "    }\n",
              "\n",
              "    .dataframe tbody tr th {\n",
              "        vertical-align: top;\n",
              "    }\n",
              "\n",
              "    .dataframe thead th {\n",
              "        text-align: right;\n",
              "    }\n",
              "</style>\n",
              "<table border=\"1\" class=\"dataframe\">\n",
              "  <thead>\n",
              "    <tr style=\"text-align: right;\">\n",
              "      <th></th>\n",
              "      <th>Google</th>\n",
              "      <th>Apple</th>\n",
              "      <th>Amazon</th>\n",
              "    </tr>\n",
              "  </thead>\n",
              "  <tbody>\n",
              "    <tr>\n",
              "      <th>2000-01-01</th>\n",
              "      <td>NaN</td>\n",
              "      <td>NaN</td>\n",
              "      <td>NaN</td>\n",
              "    </tr>\n",
              "    <tr>\n",
              "      <th>2000-01-02</th>\n",
              "      <td>NaN</td>\n",
              "      <td>NaN</td>\n",
              "      <td>NaN</td>\n",
              "    </tr>\n",
              "    <tr>\n",
              "      <th>2000-01-03</th>\n",
              "      <td>NaN</td>\n",
              "      <td>3.596616</td>\n",
              "      <td>89.3750</td>\n",
              "    </tr>\n",
              "    <tr>\n",
              "      <th>2000-01-04</th>\n",
              "      <td>NaN</td>\n",
              "      <td>3.293384</td>\n",
              "      <td>81.9375</td>\n",
              "    </tr>\n",
              "    <tr>\n",
              "      <th>2000-01-05</th>\n",
              "      <td>NaN</td>\n",
              "      <td>3.341579</td>\n",
              "      <td>69.7500</td>\n",
              "    </tr>\n",
              "  </tbody>\n",
              "</table>\n",
              "</div>"
            ],
            "text/plain": [
              "            Google     Apple   Amazon\n",
              "2000-01-01     NaN       NaN      NaN\n",
              "2000-01-02     NaN       NaN      NaN\n",
              "2000-01-03     NaN  3.596616  89.3750\n",
              "2000-01-04     NaN  3.293384  81.9375\n",
              "2000-01-05     NaN  3.341579  69.7500"
            ]
          },
          "metadata": {
            "tags": []
          },
          "execution_count": 8
        }
      ]
    },
    {
      "cell_type": "code",
      "metadata": {
        "colab": {
          "base_uri": "https://localhost:8080/",
          "height": 288
        },
        "id": "rD-Sy2AVOImJ",
        "outputId": "f4e6c4b7-88a8-4fb6-d20f-7ecc5fee6266"
      },
      "source": [
        "# Describe the all_stocks DataFrame\n",
        "all_stocks.describe()"
      ],
      "execution_count": 9,
      "outputs": [
        {
          "output_type": "execute_result",
          "data": {
            "text/html": [
              "<div>\n",
              "<style scoped>\n",
              "    .dataframe tbody tr th:only-of-type {\n",
              "        vertical-align: middle;\n",
              "    }\n",
              "\n",
              "    .dataframe tbody tr th {\n",
              "        vertical-align: top;\n",
              "    }\n",
              "\n",
              "    .dataframe thead th {\n",
              "        text-align: right;\n",
              "    }\n",
              "</style>\n",
              "<table border=\"1\" class=\"dataframe\">\n",
              "  <thead>\n",
              "    <tr style=\"text-align: right;\">\n",
              "      <th></th>\n",
              "      <th>Google</th>\n",
              "      <th>Apple</th>\n",
              "      <th>Amazon</th>\n",
              "    </tr>\n",
              "  </thead>\n",
              "  <tbody>\n",
              "    <tr>\n",
              "      <th>count</th>\n",
              "      <td>3115.000000</td>\n",
              "      <td>4277.000000</td>\n",
              "      <td>4277.000000</td>\n",
              "    </tr>\n",
              "    <tr>\n",
              "      <th>mean</th>\n",
              "      <td>347.420229</td>\n",
              "      <td>35.222976</td>\n",
              "      <td>166.095436</td>\n",
              "    </tr>\n",
              "    <tr>\n",
              "      <th>std</th>\n",
              "      <td>187.671596</td>\n",
              "      <td>37.945557</td>\n",
              "      <td>189.212345</td>\n",
              "    </tr>\n",
              "    <tr>\n",
              "      <th>min</th>\n",
              "      <td>49.681866</td>\n",
              "      <td>0.843106</td>\n",
              "      <td>5.970000</td>\n",
              "    </tr>\n",
              "    <tr>\n",
              "      <th>25%</th>\n",
              "      <td>220.088539</td>\n",
              "      <td>3.221090</td>\n",
              "      <td>38.009998</td>\n",
              "    </tr>\n",
              "    <tr>\n",
              "      <th>50%</th>\n",
              "      <td>286.397247</td>\n",
              "      <td>17.524017</td>\n",
              "      <td>76.980003</td>\n",
              "    </tr>\n",
              "    <tr>\n",
              "      <th>75%</th>\n",
              "      <td>508.255340</td>\n",
              "      <td>64.533600</td>\n",
              "      <td>243.919998</td>\n",
              "    </tr>\n",
              "    <tr>\n",
              "      <th>max</th>\n",
              "      <td>813.109985</td>\n",
              "      <td>126.941574</td>\n",
              "      <td>844.359985</td>\n",
              "    </tr>\n",
              "  </tbody>\n",
              "</table>\n",
              "</div>"
            ],
            "text/plain": [
              "            Google        Apple       Amazon\n",
              "count  3115.000000  4277.000000  4277.000000\n",
              "mean    347.420229    35.222976   166.095436\n",
              "std     187.671596    37.945557   189.212345\n",
              "min      49.681866     0.843106     5.970000\n",
              "25%     220.088539     3.221090    38.009998\n",
              "50%     286.397247    17.524017    76.980003\n",
              "75%     508.255340    64.533600   243.919998\n",
              "max     813.109985   126.941574   844.359985"
            ]
          },
          "metadata": {
            "tags": []
          },
          "execution_count": 9
        }
      ]
    },
    {
      "cell_type": "markdown",
      "metadata": {
        "id": "ZFhPTEVUOImK"
      },
      "source": [
        "# To Do\n",
        "\n",
        "Before we proceed to get some statistics on the stock data, let's first check that we don't have any *NaN* values. In the space below check if there are any *NaN* values in the `all_stocks`  dataframe. If there are any, remove any rows that have *NaN* values:"
      ]
    },
    {
      "cell_type": "code",
      "metadata": {
        "collapsed": true,
        "id": "aDBq9YZhOImL"
      },
      "source": [
        "# Print the coumn-wise count of NaN values, if any, in the all_stocks dataframe.\n",
        "all_stocks.isnull().sum().sum()\n",
        "\n",
        "\n",
        "# Remove any rows that contain NaN values. Do this operation inplace. \n",
        "all_stocks.dropna(axis=0, inplace=True)"
      ],
      "execution_count": 10,
      "outputs": []
    },
    {
      "cell_type": "markdown",
      "metadata": {
        "id": "tZZlFkQdOImL"
      },
      "source": [
        "Now that you have eliminated any *NaN* values we can now calculate some basic statistics on the stock prices. Fill in the code below"
      ]
    },
    {
      "cell_type": "code",
      "metadata": {
        "collapsed": true,
        "colab": {
          "base_uri": "https://localhost:8080/"
        },
        "id": "kQb8odAgOImL",
        "outputId": "57ff77f9-578a-491c-fbd4-ad4ede32e4eb"
      },
      "source": [
        "# Print the average stock price for each stock\n",
        "print('The average stock price is: \\n', all_stocks.mean(), '\\n')\n",
        "# Print the median stock price for each stock\n",
        "print('The median stock price is: \\n', all_stocks.median(), '\\n')\n",
        "# Print the standard deviation of the stock price for each stock  \n",
        "print('The standard deviation of the stock price for each stock: \\n', all_stocks.std(), '\\n')\n",
        "# Print the correlation between stocks\n",
        "print('The correlation between each stock is: \\n', all_stocks.corr(), '\\n')"
      ],
      "execution_count": 11,
      "outputs": [
        {
          "output_type": "stream",
          "text": [
            "The average stock price is: \n",
            " Google    347.420229\n",
            "Apple      47.736018\n",
            "Amazon    216.598177\n",
            "dtype: float64 \n",
            "\n",
            "The median stock price is: \n",
            " Google    286.397247\n",
            "Apple      39.461483\n",
            "Amazon    161.820007\n",
            "dtype: float64 \n",
            "\n",
            "The standard deviation of the stock price for each stock: \n",
            " Google    187.671596\n",
            "Apple      37.421555\n",
            "Amazon    199.129792\n",
            "dtype: float64 \n",
            "\n",
            "The correlation between each stock is: \n",
            "           Google     Apple    Amazon\n",
            "Google  1.000000  0.900242  0.952444\n",
            "Apple   0.900242  1.000000  0.886321\n",
            "Amazon  0.952444  0.886321  1.000000 \n",
            "\n"
          ],
          "name": "stdout"
        }
      ]
    },
    {
      "cell_type": "markdown",
      "metadata": {
        "id": "8sWMYOezOImN"
      },
      "source": [
        "We will now look at how we can compute some rolling statistics, also known as moving statistics. We can calculate for example the rolling mean (moving average) of the Google stock price by using the Pandas `dataframe.rolling().mean()` method. The `dataframe.rolling(N).mean()` calculates the rolling mean over an `N`-day window. In other words, we can take a look at the average stock price every `N`  days using the above method. Fill in the code below to calculate the average stock price every 150 days for Google stock"
      ]
    },
    {
      "cell_type": "code",
      "metadata": {
        "collapsed": true,
        "colab": {
          "base_uri": "https://localhost:8080/",
          "height": 407
        },
        "id": "jI0tZgQBOImO",
        "outputId": "ef0aa43d-1e32-4ec5-ea2c-243fe02ac4bb"
      },
      "source": [
        "# We compute the rolling mean using a 150-Day window for Google stock\n",
        "rollingMean = all_stocks.rolling(150).mean()\n",
        "rollingMean"
      ],
      "execution_count": 12,
      "outputs": [
        {
          "output_type": "execute_result",
          "data": {
            "text/html": [
              "<div>\n",
              "<style scoped>\n",
              "    .dataframe tbody tr th:only-of-type {\n",
              "        vertical-align: middle;\n",
              "    }\n",
              "\n",
              "    .dataframe tbody tr th {\n",
              "        vertical-align: top;\n",
              "    }\n",
              "\n",
              "    .dataframe thead th {\n",
              "        text-align: right;\n",
              "    }\n",
              "</style>\n",
              "<table border=\"1\" class=\"dataframe\">\n",
              "  <thead>\n",
              "    <tr style=\"text-align: right;\">\n",
              "      <th></th>\n",
              "      <th>Google</th>\n",
              "      <th>Apple</th>\n",
              "      <th>Amazon</th>\n",
              "    </tr>\n",
              "  </thead>\n",
              "  <tbody>\n",
              "    <tr>\n",
              "      <th>2004-08-19</th>\n",
              "      <td>NaN</td>\n",
              "      <td>NaN</td>\n",
              "      <td>NaN</td>\n",
              "    </tr>\n",
              "    <tr>\n",
              "      <th>2004-08-20</th>\n",
              "      <td>NaN</td>\n",
              "      <td>NaN</td>\n",
              "      <td>NaN</td>\n",
              "    </tr>\n",
              "    <tr>\n",
              "      <th>2004-08-23</th>\n",
              "      <td>NaN</td>\n",
              "      <td>NaN</td>\n",
              "      <td>NaN</td>\n",
              "    </tr>\n",
              "    <tr>\n",
              "      <th>2004-08-24</th>\n",
              "      <td>NaN</td>\n",
              "      <td>NaN</td>\n",
              "      <td>NaN</td>\n",
              "    </tr>\n",
              "    <tr>\n",
              "      <th>2004-08-25</th>\n",
              "      <td>NaN</td>\n",
              "      <td>NaN</td>\n",
              "      <td>NaN</td>\n",
              "    </tr>\n",
              "    <tr>\n",
              "      <th>...</th>\n",
              "      <td>...</td>\n",
              "      <td>...</td>\n",
              "      <td>...</td>\n",
              "    </tr>\n",
              "    <tr>\n",
              "      <th>2016-12-23</th>\n",
              "      <td>758.236666</td>\n",
              "      <td>105.283072</td>\n",
              "      <td>764.176933</td>\n",
              "    </tr>\n",
              "    <tr>\n",
              "      <th>2016-12-27</th>\n",
              "      <td>758.713066</td>\n",
              "      <td>105.417301</td>\n",
              "      <td>764.624933</td>\n",
              "    </tr>\n",
              "    <tr>\n",
              "      <th>2016-12-28</th>\n",
              "      <td>759.111599</td>\n",
              "      <td>105.537030</td>\n",
              "      <td>765.050133</td>\n",
              "    </tr>\n",
              "    <tr>\n",
              "      <th>2016-12-29</th>\n",
              "      <td>759.502732</td>\n",
              "      <td>105.651415</td>\n",
              "      <td>765.385067</td>\n",
              "    </tr>\n",
              "    <tr>\n",
              "      <th>2016-12-30</th>\n",
              "      <td>759.763799</td>\n",
              "      <td>105.760198</td>\n",
              "      <td>765.635933</td>\n",
              "    </tr>\n",
              "  </tbody>\n",
              "</table>\n",
              "<p>3115 rows × 3 columns</p>\n",
              "</div>"
            ],
            "text/plain": [
              "                Google       Apple      Amazon\n",
              "2004-08-19         NaN         NaN         NaN\n",
              "2004-08-20         NaN         NaN         NaN\n",
              "2004-08-23         NaN         NaN         NaN\n",
              "2004-08-24         NaN         NaN         NaN\n",
              "2004-08-25         NaN         NaN         NaN\n",
              "...                ...         ...         ...\n",
              "2016-12-23  758.236666  105.283072  764.176933\n",
              "2016-12-27  758.713066  105.417301  764.624933\n",
              "2016-12-28  759.111599  105.537030  765.050133\n",
              "2016-12-29  759.502732  105.651415  765.385067\n",
              "2016-12-30  759.763799  105.760198  765.635933\n",
              "\n",
              "[3115 rows x 3 columns]"
            ]
          },
          "metadata": {
            "tags": []
          },
          "execution_count": 12
        }
      ]
    },
    {
      "cell_type": "markdown",
      "metadata": {
        "id": "jNBHk3J5OImP"
      },
      "source": [
        "We can also visualize the rolling mean by plotting the data in our dataframe. In the following lessons you will learn how to use **Matplotlib** to visualize data. For now I will just import matplotlib and plot the Google stock data on top of the rolling mean. You can play around by changing the rolling mean window and see how the plot changes. "
      ]
    },
    {
      "cell_type": "code",
      "metadata": {
        "collapsed": true,
        "colab": {
          "base_uri": "https://localhost:8080/",
          "height": 265
        },
        "id": "NSBxm6RKOImP",
        "outputId": "cfd6ec00-95ec-439f-8a75-b4c2d338c8c4"
      },
      "source": [
        "# this allows plots to be rendered in the notebook\n",
        "%matplotlib inline \n",
        "\n",
        "# We import matplotlib into Python\n",
        "import matplotlib.pyplot as plt\n",
        "\n",
        "\n",
        "# We plot the Google stock data\n",
        "plt.plot(all_stocks['Google'])\n",
        "\n",
        "# We plot the rolling mean ontop of our Google stock data\n",
        "plt.plot(rollingMean)\n",
        "plt.legend(['Google Stock Price', 'Rolling Mean'])\n",
        "plt.show()"
      ],
      "execution_count": 13,
      "outputs": [
        {
          "output_type": "display_data",
          "data": {
            "image/png": "[encoded data removed]",
            "text/plain": [
              "<Figure size 432x288 with 1 Axes>"
            ]
          },
          "metadata": {
            "tags": [],
            "needs_background": "light"
          }
        }
      ]
    }
  ]
}